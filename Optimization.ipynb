{
 "cells": [
  {
   "cell_type": "code",
   "execution_count": 97,
   "id": "4c94c74b",
   "metadata": {},
   "outputs": [],
   "source": [
    "import pandas as pd\n",
    "import numpy as np\n",
    "from sklearn.model_selection import train_test_split, GridSearchCV\n",
    "from sklearn.ensemble import RandomForestRegressor\n",
    "from sklearn.metrics import mean_squared_error, r2_score\n",
    "import matplotlib.pyplot as plt"
   ]
  },
  {
   "cell_type": "code",
   "execution_count": 98,
   "id": "3ab8883f",
   "metadata": {},
   "outputs": [],
   "source": [
    "data = pd.read_csv('analytics.csv')"
   ]
  },
  {
   "cell_type": "code",
   "execution_count": 99,
   "id": "fdcd646f",
   "metadata": {},
   "outputs": [
    {
     "data": {
      "text/html": [
       "<div>\n",
       "<style scoped>\n",
       "    .dataframe tbody tr th:only-of-type {\n",
       "        vertical-align: middle;\n",
       "    }\n",
       "\n",
       "    .dataframe tbody tr th {\n",
       "        vertical-align: top;\n",
       "    }\n",
       "\n",
       "    .dataframe thead th {\n",
       "        text-align: right;\n",
       "    }\n",
       "</style>\n",
       "<table border=\"1\" class=\"dataframe\">\n",
       "  <thead>\n",
       "    <tr style=\"text-align: right;\">\n",
       "      <th></th>\n",
       "      <th>Unnamed: 0</th>\n",
       "      <th>Customer_placed_order_datetime</th>\n",
       "      <th>Placed_order_with_restaurant_datetime</th>\n",
       "      <th>Driver_at_restaurant_datetime</th>\n",
       "      <th>Delivered_to_consumer_datetime</th>\n",
       "      <th>Driver_ID</th>\n",
       "      <th>Restaurant_ID</th>\n",
       "      <th>Consumer_ID</th>\n",
       "      <th>Is_New</th>\n",
       "      <th>Delivery_Region</th>\n",
       "      <th>Is_ASAP</th>\n",
       "      <th>Order_total</th>\n",
       "      <th>Amount_of_discount</th>\n",
       "      <th>Amount_of_tip</th>\n",
       "      <th>Refunded_amount</th>\n",
       "      <th>Total_time_elapsed</th>\n",
       "    </tr>\n",
       "  </thead>\n",
       "  <tbody>\n",
       "    <tr>\n",
       "      <th>0</th>\n",
       "      <td>0</td>\n",
       "      <td>14 20:27:45</td>\n",
       "      <td>14 20:29:41</td>\n",
       "      <td>14 20:39:32</td>\n",
       "      <td>14 20:52:03</td>\n",
       "      <td>86</td>\n",
       "      <td>12</td>\n",
       "      <td>5</td>\n",
       "      <td>False</td>\n",
       "      <td>Palo Alto</td>\n",
       "      <td>True</td>\n",
       "      <td>20.45</td>\n",
       "      <td>20.45</td>\n",
       "      <td>3.07</td>\n",
       "      <td>0.0</td>\n",
       "      <td>0 days 00:24:18.000000000</td>\n",
       "    </tr>\n",
       "    <tr>\n",
       "      <th>1</th>\n",
       "      <td>1</td>\n",
       "      <td>07 20:16:28</td>\n",
       "      <td>07 20:17:32</td>\n",
       "      <td>07 20:36:00</td>\n",
       "      <td>07 20:49:02</td>\n",
       "      <td>325</td>\n",
       "      <td>66</td>\n",
       "      <td>5</td>\n",
       "      <td>False</td>\n",
       "      <td>Palo Alto</td>\n",
       "      <td>True</td>\n",
       "      <td>40.62</td>\n",
       "      <td>40.62</td>\n",
       "      <td>3.73</td>\n",
       "      <td>0.0</td>\n",
       "      <td>0 days 00:32:34.000000000</td>\n",
       "    </tr>\n",
       "    <tr>\n",
       "      <th>2</th>\n",
       "      <td>2</td>\n",
       "      <td>13 19:35:09</td>\n",
       "      <td>13 19:39:26</td>\n",
       "      <td>13 20:28:16</td>\n",
       "      <td>13 20:52:44</td>\n",
       "      <td>200</td>\n",
       "      <td>124</td>\n",
       "      <td>5</td>\n",
       "      <td>False</td>\n",
       "      <td>Palo Alto</td>\n",
       "      <td>True</td>\n",
       "      <td>37.78</td>\n",
       "      <td>37.78</td>\n",
       "      <td>1.89</td>\n",
       "      <td>0.0</td>\n",
       "      <td>0 days 01:17:35.000000000</td>\n",
       "    </tr>\n",
       "    <tr>\n",
       "      <th>3</th>\n",
       "      <td>3</td>\n",
       "      <td>22 19:47:53</td>\n",
       "      <td>22 19:56:08</td>\n",
       "      <td>22 20:01:20</td>\n",
       "      <td>22 20:18:01</td>\n",
       "      <td>154</td>\n",
       "      <td>5</td>\n",
       "      <td>14</td>\n",
       "      <td>False</td>\n",
       "      <td>Palo Alto</td>\n",
       "      <td>True</td>\n",
       "      <td>39.66</td>\n",
       "      <td>0.00</td>\n",
       "      <td>1.98</td>\n",
       "      <td>0.0</td>\n",
       "      <td>0 days 00:30:08.000000000</td>\n",
       "    </tr>\n",
       "    <tr>\n",
       "      <th>4</th>\n",
       "      <td>4</td>\n",
       "      <td>03 19:01:52</td>\n",
       "      <td>03 19:09:08</td>\n",
       "      <td>03 19:36:20</td>\n",
       "      <td>03 19:45:26</td>\n",
       "      <td>332</td>\n",
       "      <td>9</td>\n",
       "      <td>14</td>\n",
       "      <td>False</td>\n",
       "      <td>Palo Alto</td>\n",
       "      <td>True</td>\n",
       "      <td>39.66</td>\n",
       "      <td>0.00</td>\n",
       "      <td>5.95</td>\n",
       "      <td>0.0</td>\n",
       "      <td>0 days 00:43:34.000000000</td>\n",
       "    </tr>\n",
       "  </tbody>\n",
       "</table>\n",
       "</div>"
      ],
      "text/plain": [
       "   Unnamed: 0 Customer_placed_order_datetime  \\\n",
       "0           0                    14 20:27:45   \n",
       "1           1                    07 20:16:28   \n",
       "2           2                    13 19:35:09   \n",
       "3           3                    22 19:47:53   \n",
       "4           4                    03 19:01:52   \n",
       "\n",
       "  Placed_order_with_restaurant_datetime Driver_at_restaurant_datetime  \\\n",
       "0                           14 20:29:41                   14 20:39:32   \n",
       "1                           07 20:17:32                   07 20:36:00   \n",
       "2                           13 19:39:26                   13 20:28:16   \n",
       "3                           22 19:56:08                   22 20:01:20   \n",
       "4                           03 19:09:08                   03 19:36:20   \n",
       "\n",
       "  Delivered_to_consumer_datetime  Driver_ID  Restaurant_ID  Consumer_ID  \\\n",
       "0                    14 20:52:03         86             12            5   \n",
       "1                    07 20:49:02        325             66            5   \n",
       "2                    13 20:52:44        200            124            5   \n",
       "3                    22 20:18:01        154              5           14   \n",
       "4                    03 19:45:26        332              9           14   \n",
       "\n",
       "   Is_New Delivery_Region  Is_ASAP  Order_total  Amount_of_discount  \\\n",
       "0   False       Palo Alto     True        20.45               20.45   \n",
       "1   False       Palo Alto     True        40.62               40.62   \n",
       "2   False       Palo Alto     True        37.78               37.78   \n",
       "3   False       Palo Alto     True        39.66                0.00   \n",
       "4   False       Palo Alto     True        39.66                0.00   \n",
       "\n",
       "   Amount_of_tip  Refunded_amount         Total_time_elapsed  \n",
       "0           3.07              0.0  0 days 00:24:18.000000000  \n",
       "1           3.73              0.0  0 days 00:32:34.000000000  \n",
       "2           1.89              0.0  0 days 01:17:35.000000000  \n",
       "3           1.98              0.0  0 days 00:30:08.000000000  \n",
       "4           5.95              0.0  0 days 00:43:34.000000000  "
      ]
     },
     "execution_count": 99,
     "metadata": {},
     "output_type": "execute_result"
    }
   ],
   "source": [
    "data.head()"
   ]
  },
  {
   "cell_type": "code",
   "execution_count": 100,
   "id": "89455d5e",
   "metadata": {},
   "outputs": [],
   "source": [
    "data = data.select_dtypes(include=['int', 'float'])"
   ]
  },
  {
   "cell_type": "code",
   "execution_count": 101,
   "id": "ccc35d30",
   "metadata": {},
   "outputs": [
    {
     "data": {
      "text/html": [
       "<div>\n",
       "<style scoped>\n",
       "    .dataframe tbody tr th:only-of-type {\n",
       "        vertical-align: middle;\n",
       "    }\n",
       "\n",
       "    .dataframe tbody tr th {\n",
       "        vertical-align: top;\n",
       "    }\n",
       "\n",
       "    .dataframe thead th {\n",
       "        text-align: right;\n",
       "    }\n",
       "</style>\n",
       "<table border=\"1\" class=\"dataframe\">\n",
       "  <thead>\n",
       "    <tr style=\"text-align: right;\">\n",
       "      <th></th>\n",
       "      <th>Unnamed: 0</th>\n",
       "      <th>Driver_ID</th>\n",
       "      <th>Restaurant_ID</th>\n",
       "      <th>Consumer_ID</th>\n",
       "      <th>Order_total</th>\n",
       "      <th>Amount_of_discount</th>\n",
       "      <th>Amount_of_tip</th>\n",
       "      <th>Refunded_amount</th>\n",
       "    </tr>\n",
       "  </thead>\n",
       "  <tbody>\n",
       "    <tr>\n",
       "      <th>0</th>\n",
       "      <td>0</td>\n",
       "      <td>86</td>\n",
       "      <td>12</td>\n",
       "      <td>5</td>\n",
       "      <td>20.45</td>\n",
       "      <td>20.45</td>\n",
       "      <td>3.07</td>\n",
       "      <td>0.0</td>\n",
       "    </tr>\n",
       "    <tr>\n",
       "      <th>1</th>\n",
       "      <td>1</td>\n",
       "      <td>325</td>\n",
       "      <td>66</td>\n",
       "      <td>5</td>\n",
       "      <td>40.62</td>\n",
       "      <td>40.62</td>\n",
       "      <td>3.73</td>\n",
       "      <td>0.0</td>\n",
       "    </tr>\n",
       "    <tr>\n",
       "      <th>2</th>\n",
       "      <td>2</td>\n",
       "      <td>200</td>\n",
       "      <td>124</td>\n",
       "      <td>5</td>\n",
       "      <td>37.78</td>\n",
       "      <td>37.78</td>\n",
       "      <td>1.89</td>\n",
       "      <td>0.0</td>\n",
       "    </tr>\n",
       "    <tr>\n",
       "      <th>3</th>\n",
       "      <td>3</td>\n",
       "      <td>154</td>\n",
       "      <td>5</td>\n",
       "      <td>14</td>\n",
       "      <td>39.66</td>\n",
       "      <td>0.00</td>\n",
       "      <td>1.98</td>\n",
       "      <td>0.0</td>\n",
       "    </tr>\n",
       "    <tr>\n",
       "      <th>4</th>\n",
       "      <td>4</td>\n",
       "      <td>332</td>\n",
       "      <td>9</td>\n",
       "      <td>14</td>\n",
       "      <td>39.66</td>\n",
       "      <td>0.00</td>\n",
       "      <td>5.95</td>\n",
       "      <td>0.0</td>\n",
       "    </tr>\n",
       "  </tbody>\n",
       "</table>\n",
       "</div>"
      ],
      "text/plain": [
       "   Unnamed: 0  Driver_ID  Restaurant_ID  Consumer_ID  Order_total  \\\n",
       "0           0         86             12            5        20.45   \n",
       "1           1        325             66            5        40.62   \n",
       "2           2        200            124            5        37.78   \n",
       "3           3        154              5           14        39.66   \n",
       "4           4        332              9           14        39.66   \n",
       "\n",
       "   Amount_of_discount  Amount_of_tip  Refunded_amount  \n",
       "0               20.45           3.07              0.0  \n",
       "1               40.62           3.73              0.0  \n",
       "2               37.78           1.89              0.0  \n",
       "3                0.00           1.98              0.0  \n",
       "4                0.00           5.95              0.0  "
      ]
     },
     "execution_count": 101,
     "metadata": {},
     "output_type": "execute_result"
    }
   ],
   "source": [
    "data.head()"
   ]
  },
  {
   "cell_type": "code",
   "execution_count": 102,
   "id": "73e3ea9f",
   "metadata": {},
   "outputs": [
    {
     "name": "stdout",
     "output_type": "stream",
     "text": [
      "<class 'pandas.core.frame.DataFrame'>\n",
      "RangeIndex: 18078 entries, 0 to 18077\n",
      "Data columns (total 8 columns):\n",
      " #   Column              Non-Null Count  Dtype  \n",
      "---  ------              --------------  -----  \n",
      " 0   Unnamed: 0          18078 non-null  int64  \n",
      " 1   Driver_ID           18078 non-null  int64  \n",
      " 2   Restaurant_ID       18078 non-null  int64  \n",
      " 3   Consumer_ID         18078 non-null  int64  \n",
      " 4   Order_total         18078 non-null  float64\n",
      " 5   Amount_of_discount  18078 non-null  float64\n",
      " 6   Amount_of_tip       18078 non-null  float64\n",
      " 7   Refunded_amount     18078 non-null  float64\n",
      "dtypes: float64(4), int64(4)\n",
      "memory usage: 1.1 MB\n"
     ]
    }
   ],
   "source": [
    "data.info()"
   ]
  },
  {
   "cell_type": "code",
   "execution_count": 103,
   "id": "e42cd3de",
   "metadata": {},
   "outputs": [
    {
     "data": {
      "text/html": [
       "<div>\n",
       "<style scoped>\n",
       "    .dataframe tbody tr th:only-of-type {\n",
       "        vertical-align: middle;\n",
       "    }\n",
       "\n",
       "    .dataframe tbody tr th {\n",
       "        vertical-align: top;\n",
       "    }\n",
       "\n",
       "    .dataframe thead th {\n",
       "        text-align: right;\n",
       "    }\n",
       "</style>\n",
       "<table border=\"1\" class=\"dataframe\">\n",
       "  <thead>\n",
       "    <tr style=\"text-align: right;\">\n",
       "      <th></th>\n",
       "      <th>Unnamed: 0</th>\n",
       "      <th>Driver_ID</th>\n",
       "      <th>Restaurant_ID</th>\n",
       "      <th>Consumer_ID</th>\n",
       "      <th>Order_total</th>\n",
       "      <th>Amount_of_discount</th>\n",
       "      <th>Amount_of_tip</th>\n",
       "      <th>Refunded_amount</th>\n",
       "    </tr>\n",
       "  </thead>\n",
       "  <tbody>\n",
       "    <tr>\n",
       "      <th>count</th>\n",
       "      <td>18078.000000</td>\n",
       "      <td>18078.000000</td>\n",
       "      <td>18078.000000</td>\n",
       "      <td>18078.000000</td>\n",
       "      <td>18078.000000</td>\n",
       "      <td>18078.000000</td>\n",
       "      <td>18078.000000</td>\n",
       "      <td>18078.000000</td>\n",
       "    </tr>\n",
       "    <tr>\n",
       "      <th>mean</th>\n",
       "      <td>9038.500000</td>\n",
       "      <td>222.448169</td>\n",
       "      <td>108.721263</td>\n",
       "      <td>32010.313475</td>\n",
       "      <td>51.261496</td>\n",
       "      <td>1.356706</td>\n",
       "      <td>3.492022</td>\n",
       "      <td>0.612091</td>\n",
       "    </tr>\n",
       "    <tr>\n",
       "      <th>std</th>\n",
       "      <td>5218.813419</td>\n",
       "      <td>105.219194</td>\n",
       "      <td>98.609766</td>\n",
       "      <td>42010.215766</td>\n",
       "      <td>50.599675</td>\n",
       "      <td>6.516667</td>\n",
       "      <td>3.700115</td>\n",
       "      <td>6.073104</td>\n",
       "    </tr>\n",
       "    <tr>\n",
       "      <th>min</th>\n",
       "      <td>0.000000</td>\n",
       "      <td>7.000000</td>\n",
       "      <td>2.000000</td>\n",
       "      <td>5.000000</td>\n",
       "      <td>0.000000</td>\n",
       "      <td>0.000000</td>\n",
       "      <td>0.000000</td>\n",
       "      <td>0.000000</td>\n",
       "    </tr>\n",
       "    <tr>\n",
       "      <th>25%</th>\n",
       "      <td>4519.250000</td>\n",
       "      <td>141.000000</td>\n",
       "      <td>23.000000</td>\n",
       "      <td>4243.500000</td>\n",
       "      <td>26.660000</td>\n",
       "      <td>0.000000</td>\n",
       "      <td>1.400000</td>\n",
       "      <td>0.000000</td>\n",
       "    </tr>\n",
       "    <tr>\n",
       "      <th>50%</th>\n",
       "      <td>9038.500000</td>\n",
       "      <td>227.000000</td>\n",
       "      <td>77.000000</td>\n",
       "      <td>10972.000000</td>\n",
       "      <td>38.630000</td>\n",
       "      <td>0.000000</td>\n",
       "      <td>2.550000</td>\n",
       "      <td>0.000000</td>\n",
       "    </tr>\n",
       "    <tr>\n",
       "      <th>75%</th>\n",
       "      <td>13557.750000</td>\n",
       "      <td>314.000000</td>\n",
       "      <td>186.000000</td>\n",
       "      <td>56857.000000</td>\n",
       "      <td>57.885000</td>\n",
       "      <td>0.000000</td>\n",
       "      <td>4.460000</td>\n",
       "      <td>0.000000</td>\n",
       "    </tr>\n",
       "    <tr>\n",
       "      <th>max</th>\n",
       "      <td>18077.000000</td>\n",
       "      <td>438.000000</td>\n",
       "      <td>409.000000</td>\n",
       "      <td>200449.000000</td>\n",
       "      <td>1604.130000</td>\n",
       "      <td>187.880000</td>\n",
       "      <td>120.300000</td>\n",
       "      <td>414.770000</td>\n",
       "    </tr>\n",
       "  </tbody>\n",
       "</table>\n",
       "</div>"
      ],
      "text/plain": [
       "         Unnamed: 0     Driver_ID  Restaurant_ID    Consumer_ID   Order_total  \\\n",
       "count  18078.000000  18078.000000   18078.000000   18078.000000  18078.000000   \n",
       "mean    9038.500000    222.448169     108.721263   32010.313475     51.261496   \n",
       "std     5218.813419    105.219194      98.609766   42010.215766     50.599675   \n",
       "min        0.000000      7.000000       2.000000       5.000000      0.000000   \n",
       "25%     4519.250000    141.000000      23.000000    4243.500000     26.660000   \n",
       "50%     9038.500000    227.000000      77.000000   10972.000000     38.630000   \n",
       "75%    13557.750000    314.000000     186.000000   56857.000000     57.885000   \n",
       "max    18077.000000    438.000000     409.000000  200449.000000   1604.130000   \n",
       "\n",
       "       Amount_of_discount  Amount_of_tip  Refunded_amount  \n",
       "count        18078.000000   18078.000000     18078.000000  \n",
       "mean             1.356706       3.492022         0.612091  \n",
       "std              6.516667       3.700115         6.073104  \n",
       "min              0.000000       0.000000         0.000000  \n",
       "25%              0.000000       1.400000         0.000000  \n",
       "50%              0.000000       2.550000         0.000000  \n",
       "75%              0.000000       4.460000         0.000000  \n",
       "max            187.880000     120.300000       414.770000  "
      ]
     },
     "execution_count": 103,
     "metadata": {},
     "output_type": "execute_result"
    }
   ],
   "source": [
    "data.describe()"
   ]
  },
  {
   "cell_type": "code",
   "execution_count": 104,
   "id": "74a5cbd9",
   "metadata": {},
   "outputs": [],
   "source": [
    "X = data.iloc[:, :-1]\n",
    "y = data.iloc[:, -1]\n",
    "X_train, X_test, y_train, y_test = train_test_split(X, y, test_size=0.2, random_state=42)"
   ]
  },
  {
   "cell_type": "code",
   "execution_count": 105,
   "id": "81602808",
   "metadata": {},
   "outputs": [],
   "source": [
    "model = RandomForestRegressor()"
   ]
  },
  {
   "cell_type": "code",
   "execution_count": 106,
   "id": "82cdd219",
   "metadata": {},
   "outputs": [],
   "source": [
    "param_grid = {\n",
    "    'n_estimators': [10, 50, 100],\n",
    "    'max_depth': [5, 10, 15],\n",
    "    'min_samples_split': [2, 5, 10],\n",
    "    'min_samples_leaf': [1, 2, 4]\n",
    "}"
   ]
  },
  {
   "cell_type": "code",
   "execution_count": 107,
   "id": "abf773f3",
   "metadata": {},
   "outputs": [],
   "source": [
    "cv = 5"
   ]
  },
  {
   "cell_type": "code",
   "execution_count": 108,
   "id": "8ddcd946",
   "metadata": {},
   "outputs": [
    {
     "data": {
      "text/plain": [
       "GridSearchCV(cv=5, estimator=RandomForestRegressor(), n_jobs=-1,\n",
       "             param_grid={'max_depth': [5, 10, 15],\n",
       "                         'min_samples_leaf': [1, 2, 4],\n",
       "                         'min_samples_split': [2, 5, 10],\n",
       "                         'n_estimators': [10, 50, 100]},\n",
       "             scoring='neg_mean_squared_error')"
      ]
     },
     "execution_count": 108,
     "metadata": {},
     "output_type": "execute_result"
    }
   ],
   "source": [
    "grid_search = GridSearchCV(model, param_grid, cv=cv, n_jobs=-1, scoring='neg_mean_squared_error')\n",
    "grid_search.fit(X_train, y_train)"
   ]
  },
  {
   "cell_type": "code",
   "execution_count": 109,
   "id": "5a8e41f3",
   "metadata": {},
   "outputs": [],
   "source": [
    "best_model = grid_search.best_estimator_"
   ]
  },
  {
   "cell_type": "code",
   "execution_count": 110,
   "id": "8b4ef046",
   "metadata": {},
   "outputs": [],
   "source": [
    "y_pred = best_model.predict(X_test)"
   ]
  },
  {
   "cell_type": "code",
   "execution_count": 111,
   "id": "3349eae5",
   "metadata": {},
   "outputs": [
    {
     "name": "stdout",
     "output_type": "stream",
     "text": [
      "MSE: 22.796789869701914\n",
      "R-squared: -0.03736733930377434\n"
     ]
    }
   ],
   "source": [
    "mse = mean_squared_error(y_test, y_pred)\n",
    "r2 = r2_score(y_test, y_pred)\n",
    "print(\"MSE:\", mse)\n",
    "print(\"R-squared:\", r2)"
   ]
  },
  {
   "cell_type": "code",
   "execution_count": 94,
   "id": "6eba7cb9",
   "metadata": {},
   "outputs": [
    {
     "data": {
      "image/png": "[encoded data removed]",
      "text/plain": [
       "<Figure size 640x480 with 1 Axes>"
      ]
     },
     "metadata": {},
     "output_type": "display_data"
    }
   ],
   "source": [
    "plt.scatter(y_test, y_pred)\n",
    "plt.xlabel(\"Actual Values\")\n",
    "plt.ylabel(\"Predicted Values\")\n",
    "plt.title(\"Regression Model\")\n",
    "plt.show()"
   ]
  },
  {
   "cell_type": "code",
   "execution_count": 120,
   "id": "dc6d0feb",
   "metadata": {},
   "outputs": [
    {
     "data": {
      "text/plain": [
       "Text(0.5, 1.0, 'Histogram of Delivery Tips in DoorDash Dataset')"
      ]
     },
     "execution_count": 120,
     "metadata": {},
     "output_type": "execute_result"
    },
    {
     "data": {
      "image/png": "[encoded data removed]",
      "text/plain": [
       "<Figure size 640x480 with 1 Axes>"
      ]
     },
     "metadata": {},
     "output_type": "display_data"
    }
   ],
   "source": [
    "plt.hist(data['Amount_of_tip'], bins=10, color='blue', alpha=0.5)\n",
    "plt.xlabel('Delivery Tip')\n",
    "plt.ylabel('Frequency')\n",
    "plt.title('Histogram of Delivery Tips in DoorDash Dataset')"
   ]
  }
 ],
 "metadata": {
  "kernelspec": {
   "display_name": "Python 3 (ipykernel)",
   "language": "python",
   "name": "python3"
  },
  "language_info": {
   "codemirror_mode": {
    "name": "ipython",
    "version": 3
   },
   "file_extension": ".py",
   "mimetype": "text/x-python",
   "name": "python",
   "nbconvert_exporter": "python",
   "pygments_lexer": "ipython3",
   "version": "3.9.13"
  }
 },
 "nbformat": 4,
 "nbformat_minor": 5
}
